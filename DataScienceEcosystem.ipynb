{
 "cells": [
  {
   "cell_type": "code",
   "execution_count": null,
   "id": "e884acf7",
   "metadata": {},
   "outputs": [],
   "source": []
  },
  {
   "cell_type": "markdown",
   "id": "61b8b02f",
   "metadata": {},
   "source": [
    "<h1>Data Science Tools and Ecosystem<h1>\n"
   ]
  },
  {
   "cell_type": "markdown",
   "id": "aa5c2dc4",
   "metadata": {},
   "source": [
    "In this notebook, Data Science Tools and Ecosystem are summarized."
   ]
  },
  {
   "cell_type": "markdown",
   "id": "9daa4000",
   "metadata": {},
   "source": [
    "Some of the popular languages that Data Scientists use are:\n",
    "1. python\n",
    "2. SQL\n",
    "3. R\n"
   ]
  },
  {
   "cell_type": "markdown",
   "id": "7f496f22",
   "metadata": {},
   "source": [
    "Some of the commonly used libraries used by Data Scientists include:\n",
    "1. Scikitlearn\n",
    "2. Numpy\n",
    "3. Pandas"
   ]
  },
  {
   "cell_type": "markdown",
   "id": "392be3a2",
   "metadata": {},
   "source": [
    "| Data Science Tools |\n",
    "|-----------|\n",
    "| Python    |\n",
    "| R     |\n",
    "| Numpy     |\n"
   ]
  },
  {
   "cell_type": "markdown",
   "id": "ffb65291",
   "metadata": {},
   "source": [
    "### Below are a few examples of evaluating arithmetic expressions in Python"
   ]
  },
  {
   "cell_type": "code",
   "execution_count": 3,
   "id": "c050b2cb",
   "metadata": {},
   "outputs": [
    {
     "data": {
      "text/plain": [
       "17"
      ]
     },
     "execution_count": 3,
     "metadata": {},
     "output_type": "execute_result"
    }
   ],
   "source": [
    "(3*4)+5\n"
   ]
  },
  {
   "cell_type": "code",
   "execution_count": 7,
   "id": "dd706ada",
   "metadata": {},
   "outputs": [
    {
     "data": {
      "text/plain": [
       "3.3333333333333335"
      ]
     },
     "execution_count": 7,
     "metadata": {},
     "output_type": "execute_result"
    }
   ],
   "source": [
    "hours = 200 / 60 #This will convert 200 minutes to hours by diving by 60.\n",
    "hours"
   ]
  },
  {
   "cell_type": "markdown",
   "id": "113d78ce",
   "metadata": {},
   "source": [
    "**Objectives:**\n",
    "\n",
    "- List popular languages for Data Science\n",
    "- libraries used by Data Scientists\n",
    "- evaluating arithmetic expressions in Python\n"
   ]
  },
  {
   "cell_type": "markdown",
   "id": "7be0428d",
   "metadata": {},
   "source": [
    "## Author\n",
    "Jasmithasai Panuganti"
   ]
  },
  {
   "cell_type": "code",
   "execution_count": null,
   "id": "593cd1de",
   "metadata": {},
   "outputs": [],
   "source": []
  }
 ],
 "metadata": {
  "kernelspec": {
   "display_name": "Python 3 (ipykernel)",
   "language": "python",
   "name": "python3"
  },
  "language_info": {
   "codemirror_mode": {
    "name": "ipython",
    "version": 3
   },
   "file_extension": ".py",
   "mimetype": "text/x-python",
   "name": "python",
   "nbconvert_exporter": "python",
   "pygments_lexer": "ipython3",
   "version": "3.10.9"
  }
 },
 "nbformat": 4,
 "nbformat_minor": 5
}
